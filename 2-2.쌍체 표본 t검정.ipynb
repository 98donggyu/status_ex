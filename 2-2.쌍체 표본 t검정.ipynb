{
 "cells": [
  {
   "cell_type": "markdown",
   "id": "bffff1ec",
   "metadata": {},
   "source": [
    "# 쌍체 표본 t검정\n",
    " - 다이어트 전과 후의 차이가 유의한지 검정하기\n",
    "\n",
    " ### 가설 설정\n",
    " - 귀무가설 : 다이어트 전과 후의 몸무게가 같다.\n",
    " - 대립가설 : 다이어트 전과 후의 몸무게가 다르다. (양측검정)\n",
    " - 대립가설 : 다이어트 전보다 후의 몸무게가 줄었다. (단측검정) "
   ]
  },
  {
   "cell_type": "code",
   "execution_count": 1,
   "id": "7c49829e",
   "metadata": {},
   "outputs": [],
   "source": [
    "import pandas as pd\n",
    "from scipy import stats"
   ]
  },
  {
   "cell_type": "code",
   "execution_count": 3,
   "id": "8269802a",
   "metadata": {},
   "outputs": [
    {
     "data": {
      "text/plain": [
       "Index(['다이어트전(kg)', '다이어트후(kg)'], dtype='object')"
      ]
     },
     "execution_count": 3,
     "metadata": {},
     "output_type": "execute_result"
    }
   ],
   "source": [
    "df = pd.read_csv(\"datas/다이어트약_효과검증.csv\", encoding='utf-8')\n",
    "df.columns"
   ]
  },
  {
   "cell_type": "code",
   "execution_count": 4,
   "id": "94f1125e",
   "metadata": {},
   "outputs": [],
   "source": [
    "# A그룹\n",
    "before = df['다이어트전(kg)']\n",
    "# B그룹\n",
    "after = df['다이어트후(kg)']"
   ]
  },
  {
   "cell_type": "code",
   "execution_count": 6,
   "id": "3d61c165",
   "metadata": {},
   "outputs": [
    {
     "data": {
      "text/plain": [
       "0     -0.89\n",
       "1      4.84\n",
       "2      7.38\n",
       "3      2.81\n",
       "4     -0.99\n",
       "5     10.74\n",
       "6      3.11\n",
       "7      6.71\n",
       "8      5.32\n",
       "9      1.29\n",
       "10     1.12\n",
       "11     5.49\n",
       "12     8.57\n",
       "13     1.78\n",
       "14     0.63\n",
       "15     0.97\n",
       "16     2.28\n",
       "17     5.06\n",
       "18    -1.30\n",
       "19     3.74\n",
       "20     7.42\n",
       "21     3.82\n",
       "22     5.22\n",
       "23     8.87\n",
       "24     2.66\n",
       "25     6.94\n",
       "26     3.97\n",
       "27     1.03\n",
       "28     3.26\n",
       "29     2.81\n",
       "30     4.54\n",
       "31     0.77\n",
       "32     2.99\n",
       "33     2.48\n",
       "34     0.96\n",
       "35     5.02\n",
       "36     9.60\n",
       "37     0.78\n",
       "38    11.54\n",
       "39     1.87\n",
       "40     3.82\n",
       "41     8.73\n",
       "42     2.95\n",
       "43     7.36\n",
       "44     3.94\n",
       "45     4.03\n",
       "46     8.57\n",
       "47     7.04\n",
       "48     9.06\n",
       "49     6.12\n",
       "dtype: float64"
      ]
     },
     "execution_count": 6,
     "metadata": {},
     "output_type": "execute_result"
    }
   ],
   "source": [
    "before - after"
   ]
  },
  {
   "cell_type": "markdown",
   "id": "f0d3210f",
   "metadata": {},
   "source": [
    "### 정규성 검정\n",
    " - A와 B 두 그룹간의 차이가 정규분포를 따르는지 판단하기\n",
    " - 방법 1 : Shapiro-Wilk 검정"
   ]
  },
  {
   "cell_type": "code",
   "execution_count": 7,
   "id": "95163514",
   "metadata": {},
   "outputs": [
    {
     "data": {
      "text/plain": [
       "ShapiroResult(statistic=np.float64(0.9724073061486513), pvalue=np.float64(0.2892093416018284))"
      ]
     },
     "execution_count": 7,
     "metadata": {},
     "output_type": "execute_result"
    }
   ],
   "source": [
    "stats.shapiro(after - before)"
   ]
  },
  {
   "cell_type": "markdown",
   "id": "d8a65621",
   "metadata": {},
   "source": [
    " - p-value > 0.05 이므로, 정규분포를 따른다는 것을 알 수 있음.\n",
    "\n",
    " - 방법 2 : D'Agostino-Pearson 검정"
   ]
  },
  {
   "cell_type": "code",
   "execution_count": 8,
   "id": "e221578e",
   "metadata": {},
   "outputs": [
    {
     "data": {
      "text/plain": [
       "NormaltestResult(statistic=np.float64(2.079777506462687), pvalue=np.float64(0.35349400483724547))"
      ]
     },
     "execution_count": 8,
     "metadata": {},
     "output_type": "execute_result"
    }
   ],
   "source": [
    "stats.normaltest(after - before)"
   ]
  },
  {
   "cell_type": "markdown",
   "id": "c554997f",
   "metadata": {},
   "source": [
    " - p-value > 0.05 이므로, 정규분포를 따른다는 것을 알 수 있음\n",
    "\n",
    "### 쌍체 표본 t검정"
   ]
  },
  {
   "cell_type": "code",
   "execution_count": 9,
   "id": "754dd18c",
   "metadata": {},
   "outputs": [
    {
     "data": {
      "text/plain": [
       "TtestResult(statistic=np.float64(9.70596986565785), pvalue=np.float64(5.370404098342324e-13), df=np.int64(49))"
      ]
     },
     "execution_count": 9,
     "metadata": {},
     "output_type": "execute_result"
    }
   ],
   "source": [
    "stats.ttest_rel(before, after)"
   ]
  },
  {
   "cell_type": "markdown",
   "id": "ee5dd8c2",
   "metadata": {},
   "source": [
    " - pvalue > 0.05 : 귀무가설을 기각함.\n",
    "     - 확실하게 다이어트 효과가 있음을 확인\n",
    " - h0 : d = 0, h1 : d != 0\n",
    " - 통계량이 양수 이기 때문에 양의 효과 있다는 것을 알 수 있음"
   ]
  }
 ],
 "metadata": {
  "kernelspec": {
   "display_name": "eda_env",
   "language": "python",
   "name": "python3"
  },
  "language_info": {
   "codemirror_mode": {
    "name": "ipython",
    "version": 3
   },
   "file_extension": ".py",
   "mimetype": "text/x-python",
   "name": "python",
   "nbconvert_exporter": "python",
   "pygments_lexer": "ipython3",
   "version": "3.12.9"
  }
 },
 "nbformat": 4,
 "nbformat_minor": 5
}
