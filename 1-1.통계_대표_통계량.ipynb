{
 "cells": [
  {
   "cell_type": "markdown",
   "metadata": {},
   "source": [
    "# 대표 통계량"
   ]
  },
  {
   "cell_type": "code",
   "execution_count": 1,
   "metadata": {},
   "outputs": [],
   "source": [
    "import numpy as np\n",
    "from scipy import stats\n",
    "import pandas as pd"
   ]
  },
  {
   "cell_type": "markdown",
   "metadata": {},
   "source": [
    "## 산술평균계산"
   ]
  },
  {
   "cell_type": "code",
   "execution_count": 2,
   "metadata": {},
   "outputs": [
    {
     "name": "stdout",
     "output_type": "stream",
     "text": [
      "64.0\n",
      "64.0\n",
      "64.0\n",
      "64.0\n"
     ]
    }
   ],
   "source": [
    "x = [70, 60, 80, 60, 50]\n",
    "print(np.sum(x)/len(x))\n",
    "print(np.mean(x))\n",
    "print(np.array(x).mean())\n",
    "print(pd.Series(x).mean())"
   ]
  },
  {
   "cell_type": "markdown",
   "metadata": {},
   "source": [
    "## 조화평균"
   ]
  },
  {
   "cell_type": "code",
   "execution_count": 3,
   "metadata": {},
   "outputs": [
    {
     "name": "stdout",
     "output_type": "stream",
     "text": [
      "47.99999999999999\n",
      "47.99999999999999\n"
     ]
    }
   ],
   "source": [
    "# 문제 : 자동차가 60km/h로 거리의 반, 40km/h로 나머지 거리를 주행을 했을 때, 평균 속도 구하기\n",
    "x = np.array([60, 40])\n",
    "print(len(x) / np.sum(1/x))\n",
    "print(stats.hmean(x))"
   ]
  },
  {
   "cell_type": "markdown",
   "metadata": {},
   "source": [
    "## 절사평균"
   ]
  },
  {
   "cell_type": "code",
   "execution_count": 4,
   "metadata": {},
   "outputs": [
    {
     "name": "stdout",
     "output_type": "stream",
     "text": [
      "297.0\n"
     ]
    }
   ],
   "source": [
    "# 월 평균이 3백만원이고 표준편차가 50만원인 정규 분포를 따르는 소득을 갖는 100명 생성\n",
    "income = np.random.normal(300, 50, 100)\n",
    "print(round(np.mean(income), 2))"
   ]
  },
  {
   "cell_type": "code",
   "execution_count": 5,
   "metadata": {},
   "outputs": [
    {
     "name": "stdout",
     "output_type": "stream",
     "text": [
      "1284.16\n"
     ]
    }
   ],
   "source": [
    "# 월 소득이 10억원인 사람의 등장\n",
    "# 100명의 소득이 300만원에 가까운데, 한 명 때문에 대표값인 평균이 약 1300만원에 달함\n",
    "income = np.append(income, 100000)\n",
    "print(round(np.mean(income), 2))"
   ]
  },
  {
   "cell_type": "code",
   "execution_count": 6,
   "metadata": {},
   "outputs": [
    {
     "data": {
      "text/plain": [
       "np.float64(295.96951182663435)"
      ]
     },
     "execution_count": 6,
     "metadata": {},
     "output_type": "execute_result"
    }
   ],
   "source": [
    "stats.trim_mean(income, 0.2)"
   ]
  },
  {
   "cell_type": "markdown",
   "metadata": {},
   "source": [
    "## 최빈값 계산"
   ]
  },
  {
   "cell_type": "code",
   "execution_count": 7,
   "metadata": {},
   "outputs": [
    {
     "name": "stdout",
     "output_type": "stream",
     "text": [
      "['A' 'B' 'C' 'A' 'A' 'A' 'C' 'C' 'B' 'B']\n",
      "1000\n"
     ]
    }
   ],
   "source": [
    "x = np.random.choice(['A', 'B', 'C'], 1000)\n",
    "print(x[:10])\n",
    "print(len(x))"
   ]
  },
  {
   "cell_type": "code",
   "execution_count": 8,
   "metadata": {},
   "outputs": [
    {
     "data": {
      "text/plain": [
       "array(['A', 'B', 'C'], dtype='<U1')"
      ]
     },
     "execution_count": 8,
     "metadata": {},
     "output_type": "execute_result"
    }
   ],
   "source": [
    "np.unique(x)"
   ]
  },
  {
   "cell_type": "code",
   "execution_count": 9,
   "metadata": {},
   "outputs": [
    {
     "data": {
      "text/plain": [
       "A    357\n",
       "B    341\n",
       "C    302\n",
       "Name: count, dtype: int64"
      ]
     },
     "execution_count": 9,
     "metadata": {},
     "output_type": "execute_result"
    }
   ],
   "source": [
    "pd.Series(x).value_counts()"
   ]
  },
  {
   "cell_type": "code",
   "execution_count": 10,
   "metadata": {},
   "outputs": [
    {
     "data": {
      "text/plain": [
       "'A'"
      ]
     },
     "execution_count": 10,
     "metadata": {},
     "output_type": "execute_result"
    }
   ],
   "source": [
    "pd.Series(x).value_counts().index[0]"
   ]
  },
  {
   "cell_type": "code",
   "execution_count": 11,
   "metadata": {},
   "outputs": [
    {
     "name": "stdout",
     "output_type": "stream",
     "text": [
      "최빈값 : A\n",
      "최빈값의 빈도수 : 357\n"
     ]
    }
   ],
   "source": [
    "from collections import Counter\n",
    "counter = Counter(x)\n",
    "mode_value, mode_count = counter.most_common(1)[0]\n",
    "\n",
    "print(\"최빈값 :\", mode_value)\n",
    "print(\"최빈값의 빈도수 :\", mode_count)"
   ]
  },
  {
   "cell_type": "markdown",
   "metadata": {},
   "source": [
    "## 데이터의 대푯값"
   ]
  },
  {
   "cell_type": "code",
   "execution_count": 12,
   "metadata": {},
   "outputs": [
    {
     "name": "stdout",
     "output_type": "stream",
     "text": [
      "[4 2 3 4 3 0 1 2 1 2]\n",
      "평균값 : 2.2\n",
      "중앙값 : 2.0\n",
      "최빈값 : 2, 최빈횟수 : 3\n"
     ]
    }
   ],
   "source": [
    "data = np.random.randint(0, 5, 10)\n",
    "print(data)\n",
    "\n",
    "mean = np.mean(data)\n",
    "print(\"평균값 :\", mean.round(2))\n",
    "median = np.median(data)\n",
    "print(\"중앙값 :\", median)\n",
    "mode = stats.mode(data)\n",
    "print(f\"최빈값 : {mode.mode}, 최빈횟수 : {mode.count}\")"
   ]
  },
  {
   "cell_type": "code",
   "execution_count": 13,
   "metadata": {},
   "outputs": [
    {
     "name": "stdout",
     "output_type": "stream",
     "text": [
      "평균값 :  61.666666666666664\n",
      "중앙값 :  60.0\n",
      "최빈값 :  0    60\n",
      "1    80\n",
      "dtype: int64\n",
      "최빈값 :  [60, 80]\n"
     ]
    }
   ],
   "source": [
    "data = pd.Series([60, 40, 60, 80, 50, 80])\n",
    "\n",
    "print(\"평균값 : \", data.mean())\n",
    "print(\"중앙값 : \", data.median())\n",
    "print(\"최빈값 : \", data.mode())\n",
    "print(\"최빈값 : \", data.mode().to_list())"
   ]
  }
 ],
 "metadata": {
  "kernelspec": {
   "display_name": "eda_env",
   "language": "python",
   "name": "python3"
  },
  "language_info": {
   "codemirror_mode": {
    "name": "ipython",
    "version": 3
   },
   "file_extension": ".py",
   "mimetype": "text/x-python",
   "name": "python",
   "nbconvert_exporter": "python",
   "pygments_lexer": "ipython3",
   "version": "3.12.9"
  }
 },
 "nbformat": 4,
 "nbformat_minor": 2
}
