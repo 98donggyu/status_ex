{
 "cells": [
  {
   "cell_type": "markdown",
   "id": "7ef071f1",
   "metadata": {},
   "source": [
    "# 기초통계 및 검정통계 마무리 문제\n",
    "\n",
    "### 데이터 로딩 (20점)"
   ]
  },
  {
   "cell_type": "code",
   "execution_count": 1,
   "id": "ac49d068",
   "metadata": {},
   "outputs": [],
   "source": [
    "import pandas as pd\n",
    "from scipy import stats\n",
    "from statsmodels.stats import multicomp"
   ]
  },
  {
   "cell_type": "code",
   "execution_count": 2,
   "id": "b53806f1",
   "metadata": {},
   "outputs": [
    {
     "data": {
      "text/html": [
       "<div>\n",
       "<style scoped>\n",
       "    .dataframe tbody tr th:only-of-type {\n",
       "        vertical-align: middle;\n",
       "    }\n",
       "\n",
       "    .dataframe tbody tr th {\n",
       "        vertical-align: top;\n",
       "    }\n",
       "\n",
       "    .dataframe thead th {\n",
       "        text-align: right;\n",
       "    }\n",
       "</style>\n",
       "<table border=\"1\" class=\"dataframe\">\n",
       "  <thead>\n",
       "    <tr style=\"text-align: right;\">\n",
       "      <th></th>\n",
       "      <th>CDN_A</th>\n",
       "      <th>CDN_B</th>\n",
       "      <th>CDN_C</th>\n",
       "    </tr>\n",
       "  </thead>\n",
       "  <tbody>\n",
       "    <tr>\n",
       "      <th>0</th>\n",
       "      <td>103.115543</td>\n",
       "      <td>102.342433</td>\n",
       "      <td>98.371838</td>\n",
       "    </tr>\n",
       "    <tr>\n",
       "      <th>1</th>\n",
       "      <td>94.341060</td>\n",
       "      <td>118.835131</td>\n",
       "      <td>86.193353</td>\n",
       "    </tr>\n",
       "    <tr>\n",
       "      <th>2</th>\n",
       "      <td>114.586739</td>\n",
       "      <td>104.359728</td>\n",
       "      <td>79.047870</td>\n",
       "    </tr>\n",
       "    <tr>\n",
       "      <th>3</th>\n",
       "      <td>156.155017</td>\n",
       "      <td>90.357875</td>\n",
       "      <td>63.730201</td>\n",
       "    </tr>\n",
       "    <tr>\n",
       "      <th>4</th>\n",
       "      <td>156.920524</td>\n",
       "      <td>75.013771</td>\n",
       "      <td>116.655484</td>\n",
       "    </tr>\n",
       "  </tbody>\n",
       "</table>\n",
       "</div>"
      ],
      "text/plain": [
       "        CDN_A       CDN_B       CDN_C\n",
       "0  103.115543  102.342433   98.371838\n",
       "1   94.341060  118.835131   86.193353\n",
       "2  114.586739  104.359728   79.047870\n",
       "3  156.155017   90.357875   63.730201\n",
       "4  156.920524   75.013771  116.655484"
      ]
     },
     "execution_count": 2,
     "metadata": {},
     "output_type": "execute_result"
    }
   ],
   "source": [
    "df = pd.read_csv(\"datas/cdn_page_load_times.csv\")\n",
    "df.head()"
   ]
  },
  {
   "cell_type": "code",
   "execution_count": 3,
   "id": "d7a87a53",
   "metadata": {},
   "outputs": [],
   "source": [
    "A = df['CDN_A'].dropna().values\n",
    "B = df['CDN_B'].dropna().values\n",
    "C = df['CDN_C'].dropna().values"
   ]
  },
  {
   "cell_type": "markdown",
   "id": "c11b031f",
   "metadata": {},
   "source": [
    "### 가설검정 방법 (일원분산분석 채택) (20점)\n",
    "\n",
    " - 귀무가설 : 세 CDN의 평균 로드 시간은 모두 같다.\n",
    " - 대립가설 : 적어도 하나의 CDN은 평균 로드 시간이 다르다."
   ]
  },
  {
   "cell_type": "markdown",
   "id": "f221e679",
   "metadata": {},
   "source": [
    "### 정규성 검정 (20점)"
   ]
  },
  {
   "cell_type": "code",
   "execution_count": 4,
   "id": "b807d3ec",
   "metadata": {},
   "outputs": [
    {
     "name": "stdout",
     "output_type": "stream",
     "text": [
      "ShapiroResult(statistic=np.float64(0.9940977465531138), pvalue=np.float64(0.9446069376138456))\n",
      "ShapiroResult(statistic=np.float64(0.9898981527862001), pvalue=np.float64(0.6563609451801026))\n",
      "ShapiroResult(statistic=np.float64(0.9821121731681786), pvalue=np.float64(0.19351085781526473))\n"
     ]
    }
   ],
   "source": [
    "print(stats.shapiro(A-B))\n",
    "print(stats.shapiro(A-C))\n",
    "print(stats.shapiro(B-C))"
   ]
  },
  {
   "cell_type": "markdown",
   "id": "c439c557",
   "metadata": {},
   "source": [
    " - 모두 p-value > 0.05 : 각 변수간의 차이가, 모두 정규 분포를 뛴다는 것을 알 수 있음.\n",
    "\n",
    "### 등분산성 검정"
   ]
  },
  {
   "cell_type": "code",
   "execution_count": 5,
   "id": "d758c2b0",
   "metadata": {},
   "outputs": [
    {
     "name": "stdout",
     "output_type": "stream",
     "text": [
      "levene_stat: 0.6331383822746123, levene_p_value: 0.5316379878247817\n"
     ]
    }
   ],
   "source": [
    "levene_stat, levene_p_value = stats.levene(A, B, C, center='median')\n",
    "print(f\"levene_stat: {levene_stat}, levene_p_value: {levene_p_value}\")"
   ]
  },
  {
   "cell_type": "markdown",
   "id": "a0af0f21",
   "metadata": {},
   "source": [
    " - p-value > 0.05, 샘플 간 분산이 유사하다고 판단할 수 있음\n",
    "\n",
    "### 가설검정 수행 (20점)"
   ]
  },
  {
   "cell_type": "code",
   "execution_count": 6,
   "id": "ab8548a1",
   "metadata": {},
   "outputs": [
    {
     "name": "stdout",
     "output_type": "stream",
     "text": [
      "F_onewayResult(statistic=np.float64(39.192607237897704), pvalue=np.float64(7.842852500131719e-16))\n"
     ]
    }
   ],
   "source": [
    "print(stats.f_oneway(A, B, C))"
   ]
  },
  {
   "cell_type": "markdown",
   "id": "aabc90a8",
   "metadata": {},
   "source": [
    " - p-value < 0.05 : 거의 0에 가까우므로, 귀무가설을 강력하게 기각함 (e-16)\n",
    " - 최소 하나의 그룹은 다른 그룹의 평균과 유의미하게 다르다고 판단할 수 있음\n",
    "\n",
    "### 사후성 검정 (20점)"
   ]
  },
  {
   "cell_type": "code",
   "execution_count": 7,
   "id": "bdcd663f",
   "metadata": {},
   "outputs": [
    {
     "name": "stdout",
     "output_type": "stream",
     "text": [
      " Multiple Comparison of Means - Tukey HSD, FWER=0.05 \n",
      "=====================================================\n",
      "group1 group2 meandiff p-adj   lower    upper  reject\n",
      "-----------------------------------------------------\n",
      "     A      B -24.8154    0.0 -31.4178 -18.213   True\n",
      "     A      C -12.5563    0.0 -19.1587 -5.9538   True\n",
      "     B      C  12.2591 0.0001   5.6567 18.8616   True\n",
      "-----------------------------------------------------\n"
     ]
    }
   ],
   "source": [
    "Data = A.tolist() + B.tolist() + C.tolist()\n",
    "# 각 값이 속한 그룹 이름\n",
    "Group = ['A'] * len(A) + ['B'] * len(B) + ['C'] * len(C)\n",
    "\n",
    "print(multicomp.pairwise_tukeyhsd(Data, Group))"
   ]
  },
  {
   "cell_type": "markdown",
   "id": "72fa329e",
   "metadata": {},
   "source": [
    " - reject가 모두 True이고 p-adj < 0.05이므로 모두 유의미하게 다르다는 의미\n",
    " - meandiff는 group2 평균 - group1 평균이므로 음수면 group2의 크기가 더 작다는 의미\n",
    " - A가 B보다 약 24만큼 크고 C보다 약 12만큼 크며 B가 C보다 12만큼 작음\n",
    " - 로드 시간이 작을수록 빠르므로 가장 빠른 CDN은 B\n",
    " - B를 채택해야 함"
   ]
  }
 ],
 "metadata": {
  "kernelspec": {
   "display_name": "eda_env",
   "language": "python",
   "name": "python3"
  },
  "language_info": {
   "codemirror_mode": {
    "name": "ipython",
    "version": 3
   },
   "file_extension": ".py",
   "mimetype": "text/x-python",
   "name": "python",
   "nbconvert_exporter": "python",
   "pygments_lexer": "ipython3",
   "version": "3.12.9"
  }
 },
 "nbformat": 4,
 "nbformat_minor": 5
}
