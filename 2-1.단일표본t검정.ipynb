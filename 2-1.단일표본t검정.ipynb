{
 "cells": [
  {
   "cell_type": "markdown",
   "metadata": {},
   "source": [
    "## 단일 표본 t 검정"
   ]
  },
  {
   "cell_type": "markdown",
   "metadata": {},
   "source": [
    "##### 성인여성 30명의 키 데이터입니다.\n",
    "##### 평균, 표준편차 계산\n",
    "##### ks-정규성 검정 실행\n",
    "##### 임의의 어떤 값 163은 평균 값에 근사할까?"
   ]
  },
  {
   "cell_type": "code",
   "execution_count": 21,
   "metadata": {},
   "outputs": [],
   "source": [
    "import numpy as  np\n",
    "from scipy.stats import *\n",
    "import pandas as pd"
   ]
  },
  {
   "cell_type": "code",
   "execution_count": 2,
   "metadata": {},
   "outputs": [
    {
     "name": "stdout",
     "output_type": "stream",
     "text": [
      "[163.94, 162.48, 164.29, 166.3, 162.26, 162.26, 166.43, 164.57, 161.72, 164.05, 161.73, 161.73, 163.36, 158.4, 158.83, 161.51, 160.47, 163.52, 160.71, 159.55, 166.17, 162.28, 162.96, 159.52, 161.55, 163.06, 160.15, 163.66, 161.42, 162.13]\n",
      "30\n"
     ]
    }
   ],
   "source": [
    "with open(\"./datas/성인여성_키_데이터.txt\", \"r\") as f:\n",
    "    data = f.read().split('\\n')\n",
    "    # print(data)\n",
    "    # map(data_type, list_data)\n",
    "    data = list(map(float, data))\n",
    "    print(data)\n",
    "    print(len(data))"
   ]
  },
  {
   "cell_type": "code",
   "execution_count": 3,
   "metadata": {},
   "outputs": [
    {
     "data": {
      "text/plain": [
       "[163.94, 162.48, 164.29]"
      ]
     },
     "execution_count": 3,
     "metadata": {},
     "output_type": "execute_result"
    }
   ],
   "source": [
    "data[:3]"
   ]
  },
  {
   "cell_type": "code",
   "execution_count": 4,
   "metadata": {},
   "outputs": [
    {
     "data": {
      "text/plain": [
       "(np.float64(162.36700000000002), np.float64(2.0354559685731335))"
      ]
     },
     "execution_count": 4,
     "metadata": {},
     "output_type": "execute_result"
    }
   ],
   "source": [
    "# 데이터의 평균과 표준편차 구하기\n",
    "\n",
    "mean_value = np.mean(data)\n",
    "std_dev = np.std(data, ddof=0)\n",
    "\n",
    "mean_value, std_dev"
   ]
  },
  {
   "cell_type": "markdown",
   "metadata": {},
   "source": [
    "### 정규성 검정 (ks-test)"
   ]
  },
  {
   "cell_type": "code",
   "execution_count": 5,
   "metadata": {},
   "outputs": [
    {
     "data": {
      "text/plain": [
       "(np.float64(0.08754216181498631), np.float64(0.9601287796358491))"
      ]
     },
     "execution_count": 5,
     "metadata": {},
     "output_type": "execute_result"
    }
   ],
   "source": [
    "# 정규성 검정, KS-test(Kolmogorov-Smirnov) 검정\n",
    "# KS-test는 주어진 표본 데이터가 특정 이론적인 분포(예: 정규분포)를 따르는지 검정하는 방법\n",
    "\n",
    "# 'norm': 비교 대상이 되는 이론적인 분포를 지정 ('norm'은 정규분포)\n",
    "# args=(np.mean(data), np.std(data, ddof=0)): 표본 데이터의 평균과 표준편차를 사용하여 정규분포의 모수 설정\n",
    "ks_statistic, p_value = kstest(data, 'norm', args=(np.mean(data), np.std(data, ddof=0)))\n",
    "ks_statistic, p_value"
   ]
  },
  {
   "cell_type": "markdown",
   "metadata": {},
   "source": [
    "### 가설 설정 (단일 표본 t 검정)\n",
    "\n",
    "##### 귀무 가설 : 표본 데이터의 평균은 163과 같다.\n",
    "##### 대립 가설 : 표본 데이터의 평균은 163과 다르다."
   ]
  },
  {
   "cell_type": "code",
   "execution_count": 6,
   "metadata": {},
   "outputs": [
    {
     "name": "stdout",
     "output_type": "stream",
     "text": [
      "TtestResult(statistic=np.float64(-1.6747153343266057), pvalue=np.float64(0.10474264924733795), df=np.int64(29))\n"
     ]
    }
   ],
   "source": [
    "# 단일 표본 t 검정 수행\n",
    "# 검중 수치 = 163, 귀무가설 평균키는 163이다.\n",
    "\n",
    "print(ttest_1samp(data, 163))"
   ]
  },
  {
   "cell_type": "code",
   "execution_count": 19,
   "metadata": {},
   "outputs": [
    {
     "name": "stdout",
     "output_type": "stream",
     "text": [
      "90.3\n",
      "2.0999999999999996\n",
      "0.15679849681646763\n",
      "0.9356557119856437\n",
      "t 통계량: 0.429\n",
      "p 값: 0.678\n",
      "귀무가설 채택: 혈당에 유의미한 영향이 없습니다.\n"
     ]
    },
    {
     "name": "stderr",
     "output_type": "stream",
     "text": [
      "C:\\Users\\Admin\\AppData\\Local\\Temp\\ipykernel_8700\\1020004678.py:17: DeprecationWarning: Please import `ttest_1samp` from the `scipy.stats` namespace; the `scipy.stats.stats` namespace is deprecated and will be removed in SciPy 2.0.0.\n",
      "  t_stat, p_value = stats.ttest_1samp(sample, 90)\n"
     ]
    }
   ],
   "source": [
    "# 기준 평균: 90\n",
    "\n",
    "sample = [92, 88, 91, 89, 94, 90, 87, 93, 89, 90]\n",
    "\n",
    "mean_value = np.mean(sample)\n",
    "std_dev = np.std(sample, ddof=0)\n",
    "\n",
    "print(mean_value)\n",
    "print(std_dev)\n",
    "\n",
    "\n",
    "ks_statistic, p_value = kstest(sample, 'norm', args=(np.mean(sample), np.std(sample, ddof=0)))\n",
    "\n",
    "print(ks_statistic)\n",
    "print(p_value)\n",
    "\n",
    "t_stat, p_value = stats.ttest_1samp(sample, 90)\n",
    "\n",
    "print(f\"t 통계량: {t_stat:.3f}\")\n",
    "print(f\"p 값: {p_value:.3f}\")\n",
    "\n",
    "if p_value < 0.05:\n",
    "    print(\"귀무가설 기각: 혈당에 유의미한 영향이 있습니다.\")\n",
    "else:\n",
    "    print(\"귀무가설 채택: 혈당에 유의미한 영향이 없습니다.\")"
   ]
  },
  {
   "cell_type": "markdown",
   "metadata": {},
   "source": [
    "## 독립 표본 t 검정"
   ]
  },
  {
   "cell_type": "code",
   "execution_count": 23,
   "metadata": {},
   "outputs": [
    {
     "data": {
      "text/html": [
       "<div>\n",
       "<style scoped>\n",
       "    .dataframe tbody tr th:only-of-type {\n",
       "        vertical-align: middle;\n",
       "    }\n",
       "\n",
       "    .dataframe tbody tr th {\n",
       "        vertical-align: top;\n",
       "    }\n",
       "\n",
       "    .dataframe thead th {\n",
       "        text-align: right;\n",
       "    }\n",
       "</style>\n",
       "<table border=\"1\" class=\"dataframe\">\n",
       "  <thead>\n",
       "    <tr style=\"text-align: right;\">\n",
       "      <th></th>\n",
       "      <th>반</th>\n",
       "      <th>점수</th>\n",
       "    </tr>\n",
       "  </thead>\n",
       "  <tbody>\n",
       "    <tr>\n",
       "      <th>0</th>\n",
       "      <td>A</td>\n",
       "      <td>73</td>\n",
       "    </tr>\n",
       "    <tr>\n",
       "      <th>1</th>\n",
       "      <td>A</td>\n",
       "      <td>69</td>\n",
       "    </tr>\n",
       "    <tr>\n",
       "      <th>2</th>\n",
       "      <td>A</td>\n",
       "      <td>71</td>\n",
       "    </tr>\n",
       "    <tr>\n",
       "      <th>3</th>\n",
       "      <td>A</td>\n",
       "      <td>71</td>\n",
       "    </tr>\n",
       "    <tr>\n",
       "      <th>4</th>\n",
       "      <td>A</td>\n",
       "      <td>73</td>\n",
       "    </tr>\n",
       "  </tbody>\n",
       "</table>\n",
       "</div>"
      ],
      "text/plain": [
       "   반  점수\n",
       "0  A  73\n",
       "1  A  69\n",
       "2  A  71\n",
       "3  A  71\n",
       "4  A  73"
      ]
     },
     "execution_count": 23,
     "metadata": {},
     "output_type": "execute_result"
    }
   ],
   "source": [
    "df1 = pd.read_csv(\"./datas/반별_점수_type1.csv\", encoding = \"euc-kr\")\n",
    "df1.head()"
   ]
  },
  {
   "cell_type": "code",
   "execution_count": 24,
   "metadata": {},
   "outputs": [
    {
     "name": "stdout",
     "output_type": "stream",
     "text": [
      "[73 69 71 71 73 67 73 69 62 74 68 66 70 82 70 65 76 73 58 81]\n",
      "[63 56 73 61 55 77 75 65 61 55]\n"
     ]
    }
   ],
   "source": [
    "group_A = df1['점수'].loc[df1['반'] == 'A'].values\n",
    "group_B = df1['점수'].loc[df1['반'] == 'B'].values\n",
    "\n",
    "print(group_A)\n",
    "print(group_B)\n"
   ]
  },
  {
   "cell_type": "markdown",
   "metadata": {},
   "source": [
    "### 정규성 검정 (ks-test)"
   ]
  },
  {
   "cell_type": "code",
   "execution_count": 25,
   "metadata": {},
   "outputs": [
    {
     "name": "stdout",
     "output_type": "stream",
     "text": [
      "KstestResult(statistic=np.float64(1.0), pvalue=np.float64(0.0), statistic_location=np.int64(58), statistic_sign=np.int8(-1))\n",
      "KstestResult(statistic=np.float64(1.0), pvalue=np.float64(0.0), statistic_location=np.int64(55), statistic_sign=np.int8(-1))\n"
     ]
    }
   ],
   "source": [
    "print(kstest(group_A, 'norm'))\n",
    "print(kstest(group_B, 'norm'))"
   ]
  },
  {
   "cell_type": "code",
   "execution_count": 27,
   "metadata": {},
   "outputs": [
    {
     "data": {
      "text/plain": [
       "LeveneResult(statistic=np.float64(2.033067087400979), pvalue=np.float64(0.16496408622210104))"
      ]
     },
     "execution_count": 27,
     "metadata": {},
     "output_type": "execute_result"
    }
   ],
   "source": [
    "# 등분산 검정\n",
    "\n",
    "levene(group_A, group_B) "
   ]
  },
  {
   "cell_type": "code",
   "execution_count": null,
   "metadata": {},
   "outputs": [],
   "source": []
  },
  {
   "cell_type": "markdown",
   "metadata": {},
   "source": [
    "### 독립표보내 t-검정 통계량 계산 및 의사결정"
   ]
  },
  {
   "cell_type": "code",
   "execution_count": null,
   "metadata": {},
   "outputs": [],
   "source": [
    "print(ttest_ind(group_A, group_B, equal_var = True)) "
   ]
  }
 ],
 "metadata": {
  "kernelspec": {
   "display_name": "eda_env",
   "language": "python",
   "name": "python3"
  },
  "language_info": {
   "codemirror_mode": {
    "name": "ipython",
    "version": 3
   },
   "file_extension": ".py",
   "mimetype": "text/x-python",
   "name": "python",
   "nbconvert_exporter": "python",
   "pygments_lexer": "ipython3",
   "version": "3.12.9"
  }
 },
 "nbformat": 4,
 "nbformat_minor": 2
}
