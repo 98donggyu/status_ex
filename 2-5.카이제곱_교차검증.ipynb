{
 "cells": [
  {
   "cell_type": "markdown",
   "id": "683d0ffc",
   "metadata": {},
   "source": [
    "# 카이제곱 교차검증\n",
    " - 두 범주형 변수가 서로 독립적인지 검정"
   ]
  },
  {
   "cell_type": "code",
   "execution_count": 1,
   "id": "a8257fba",
   "metadata": {},
   "outputs": [],
   "source": [
    "import pandas as pd\n",
    "from scipy import stats"
   ]
  },
  {
   "cell_type": "code",
   "execution_count": 3,
   "id": "7100abd0",
   "metadata": {},
   "outputs": [
    {
     "data": {
      "text/html": [
       "<div>\n",
       "<style scoped>\n",
       "    .dataframe tbody tr th:only-of-type {\n",
       "        vertical-align: middle;\n",
       "    }\n",
       "\n",
       "    .dataframe tbody tr th {\n",
       "        vertical-align: top;\n",
       "    }\n",
       "\n",
       "    .dataframe thead th {\n",
       "        text-align: right;\n",
       "    }\n",
       "</style>\n",
       "<table border=\"1\" class=\"dataframe\">\n",
       "  <thead>\n",
       "    <tr style=\"text-align: right;\">\n",
       "      <th></th>\n",
       "      <th>만족도</th>\n",
       "      <th>성별</th>\n",
       "    </tr>\n",
       "  </thead>\n",
       "  <tbody>\n",
       "    <tr>\n",
       "      <th>0</th>\n",
       "      <td>불만족</td>\n",
       "      <td>남성</td>\n",
       "    </tr>\n",
       "    <tr>\n",
       "      <th>1</th>\n",
       "      <td>보통</td>\n",
       "      <td>여성</td>\n",
       "    </tr>\n",
       "    <tr>\n",
       "      <th>2</th>\n",
       "      <td>불만족</td>\n",
       "      <td>여성</td>\n",
       "    </tr>\n",
       "    <tr>\n",
       "      <th>3</th>\n",
       "      <td>보통</td>\n",
       "      <td>남성</td>\n",
       "    </tr>\n",
       "    <tr>\n",
       "      <th>4</th>\n",
       "      <td>만족</td>\n",
       "      <td>여성</td>\n",
       "    </tr>\n",
       "  </tbody>\n",
       "</table>\n",
       "</div>"
      ],
      "text/plain": [
       "   만족도  성별\n",
       "0  불만족  남성\n",
       "1   보통  여성\n",
       "2  불만족  여성\n",
       "3   보통  남성\n",
       "4   만족  여성"
      ]
     },
     "execution_count": 3,
     "metadata": {},
     "output_type": "execute_result"
    }
   ],
   "source": [
    "df = pd.read_csv(\"datas/성별에따른만족도.csv\", encoding='euc-kr')\n",
    "df.head()"
   ]
  },
  {
   "cell_type": "markdown",
   "id": "9c2f8e25",
   "metadata": {},
   "source": [
    "### 실제값 교차 테이블 생성"
   ]
  },
  {
   "cell_type": "code",
   "execution_count": 4,
   "id": "78c7867e",
   "metadata": {},
   "outputs": [
    {
     "data": {
      "text/html": [
       "<div>\n",
       "<style scoped>\n",
       "    .dataframe tbody tr th:only-of-type {\n",
       "        vertical-align: middle;\n",
       "    }\n",
       "\n",
       "    .dataframe tbody tr th {\n",
       "        vertical-align: top;\n",
       "    }\n",
       "\n",
       "    .dataframe thead th {\n",
       "        text-align: right;\n",
       "    }\n",
       "</style>\n",
       "<table border=\"1\" class=\"dataframe\">\n",
       "  <thead>\n",
       "    <tr style=\"text-align: right;\">\n",
       "      <th>만족도</th>\n",
       "      <th>만족</th>\n",
       "      <th>보통</th>\n",
       "      <th>불만족</th>\n",
       "    </tr>\n",
       "    <tr>\n",
       "      <th>성별</th>\n",
       "      <th></th>\n",
       "      <th></th>\n",
       "      <th></th>\n",
       "    </tr>\n",
       "  </thead>\n",
       "  <tbody>\n",
       "    <tr>\n",
       "      <th>남성</th>\n",
       "      <td>50</td>\n",
       "      <td>40</td>\n",
       "      <td>10</td>\n",
       "    </tr>\n",
       "    <tr>\n",
       "      <th>여성</th>\n",
       "      <td>40</td>\n",
       "      <td>30</td>\n",
       "      <td>30</td>\n",
       "    </tr>\n",
       "  </tbody>\n",
       "</table>\n",
       "</div>"
      ],
      "text/plain": [
       "만족도  만족  보통  불만족\n",
       "성별              \n",
       "남성   50  40   10\n",
       "여성   40  30   30"
      ]
     },
     "execution_count": 4,
     "metadata": {},
     "output_type": "execute_result"
    }
   ],
   "source": [
    "cross_table = pd.crosstab(df['성별'], df['만족도'])\n",
    "cross_table"
   ]
  },
  {
   "cell_type": "markdown",
   "id": "f4e9c58f",
   "metadata": {},
   "source": [
    " - 실제값 numpy 배열로 만들기"
   ]
  },
  {
   "cell_type": "code",
   "execution_count": 5,
   "id": "85021f65",
   "metadata": {},
   "outputs": [
    {
     "data": {
      "text/plain": [
       "array([[50, 40, 10],\n",
       "       [40, 30, 30]])"
      ]
     },
     "execution_count": 5,
     "metadata": {},
     "output_type": "execute_result"
    }
   ],
   "source": [
    "obs = cross_table.values\n",
    "obs"
   ]
  },
  {
   "cell_type": "markdown",
   "id": "cc5f35f4",
   "metadata": {},
   "source": [
    "### 카이제곱 검정"
   ]
  },
  {
   "cell_type": "code",
   "execution_count": 6,
   "id": "c6816e76",
   "metadata": {},
   "outputs": [
    {
     "name": "stdout",
     "output_type": "stream",
     "text": [
      "0.001892528960792166\n"
     ]
    }
   ],
   "source": [
    "statistics, pvalue, dof, expected = stats.chi2_contingency(obs)\n",
    "print(pvalue)"
   ]
  },
  {
   "cell_type": "markdown",
   "id": "49f9aed5",
   "metadata": {},
   "source": [
    " - pvalue < 0.05 : 두 변수 간 독립적이지 않다는 것을 확인, 귀무가설 기각\n",
    " - 두 변수는 통계적으로 유의미한 관련이 있다고 할 수 있음"
   ]
  },
  {
   "cell_type": "code",
   "execution_count": 7,
   "id": "21e9a185",
   "metadata": {},
   "outputs": [
    {
     "data": {
      "text/plain": [
       "(np.float64(12.53968253968254),\n",
       " 2,\n",
       " array([[45., 35., 20.],\n",
       "        [45., 35., 20.]]))"
      ]
     },
     "execution_count": 7,
     "metadata": {},
     "output_type": "execute_result"
    }
   ],
   "source": [
    "statistics, dof, expected"
   ]
  },
  {
   "cell_type": "markdown",
   "id": "13d938f3",
   "metadata": {},
   "source": [
    " - statistics : 카이제곱 통계량 : 실제 관측값과 기대값의 차이, 값이 클수록 두 변수 사이의 차이가 클 수 있음\n",
    " - dof = 자유도 ( 행의 수 -1 ) * ( 열의 수 - 1 )\n",
    " - expected : 각 셀에 대한 기대값\n",
    "     - \"만약 두 변수가 독립이라면, 이 정도의 빈도가 나와야 한다\"는 이론적인 기대값임\n",
    "     - 실제 관측값과 비교해 기대값과 차이가 클수록 통계량이 커짐"
   ]
  },
  {
   "cell_type": "markdown",
   "id": "047938c2",
   "metadata": {},
   "source": [
    "### 기대값"
   ]
  },
  {
   "cell_type": "code",
   "execution_count": 8,
   "id": "f15043cf",
   "metadata": {},
   "outputs": [
    {
     "data": {
      "text/html": [
       "<div>\n",
       "<style scoped>\n",
       "    .dataframe tbody tr th:only-of-type {\n",
       "        vertical-align: middle;\n",
       "    }\n",
       "\n",
       "    .dataframe tbody tr th {\n",
       "        vertical-align: top;\n",
       "    }\n",
       "\n",
       "    .dataframe thead th {\n",
       "        text-align: right;\n",
       "    }\n",
       "</style>\n",
       "<table border=\"1\" class=\"dataframe\">\n",
       "  <thead>\n",
       "    <tr style=\"text-align: right;\">\n",
       "      <th>만족도</th>\n",
       "      <th>만족</th>\n",
       "      <th>보통</th>\n",
       "      <th>불만족</th>\n",
       "    </tr>\n",
       "    <tr>\n",
       "      <th>성별</th>\n",
       "      <th></th>\n",
       "      <th></th>\n",
       "      <th></th>\n",
       "    </tr>\n",
       "  </thead>\n",
       "  <tbody>\n",
       "    <tr>\n",
       "      <th>남성</th>\n",
       "      <td>45.0</td>\n",
       "      <td>35.0</td>\n",
       "      <td>20.0</td>\n",
       "    </tr>\n",
       "    <tr>\n",
       "      <th>여성</th>\n",
       "      <td>45.0</td>\n",
       "      <td>35.0</td>\n",
       "      <td>20.0</td>\n",
       "    </tr>\n",
       "  </tbody>\n",
       "</table>\n",
       "</div>"
      ],
      "text/plain": [
       "만족도    만족    보통   불만족\n",
       "성별                   \n",
       "남성   45.0  35.0  20.0\n",
       "여성   45.0  35.0  20.0"
      ]
     },
     "execution_count": 8,
     "metadata": {},
     "output_type": "execute_result"
    }
   ],
   "source": [
    "pd.DataFrame(expected, columns = cross_table.columns, index = cross_table.index)"
   ]
  },
  {
   "cell_type": "code",
   "execution_count": null,
   "id": "5a7e00ad",
   "metadata": {},
   "outputs": [],
   "source": []
  }
 ],
 "metadata": {
  "kernelspec": {
   "display_name": "eda_env",
   "language": "python",
   "name": "python3"
  },
  "language_info": {
   "codemirror_mode": {
    "name": "ipython",
    "version": 3
   },
   "file_extension": ".py",
   "mimetype": "text/x-python",
   "name": "python",
   "nbconvert_exporter": "python",
   "pygments_lexer": "ipython3",
   "version": "3.12.9"
  }
 },
 "nbformat": 4,
 "nbformat_minor": 5
}
